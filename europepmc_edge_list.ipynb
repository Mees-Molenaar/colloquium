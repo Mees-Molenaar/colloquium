{
  "nbformat": 4,
  "nbformat_minor": 0,
  "metadata": {
    "colab": {
      "name": "europepmc_edge_list.ipynb",
      "provenance": [],
      "collapsed_sections": [
        "6IHduVcnBDe6",
        "-hvKPdFFhhG2"
      ],
      "toc_visible": true,
      "authorship_tag": "ABX9TyP3P23J/O5cvFhdjPOJehvr"
    },
    "kernelspec": {
      "name": "python3",
      "display_name": "Python 3"
    }
  },
  "cells": [
    {
      "cell_type": "code",
      "metadata": {
        "id": "xP1eCLQfeA09",
        "colab_type": "code",
        "colab": {}
      },
      "source": [
        "import time\n",
        "import json\n",
        "import urllib.request\n",
        "import csv\n",
        "import matplotlib.pyplot as plt\n",
        "import pandas as pd"
      ],
      "execution_count": 0,
      "outputs": []
    },
    {
      "cell_type": "markdown",
      "metadata": {
        "id": "6IHduVcnBDe6",
        "colab_type": "text"
      },
      "source": [
        "## Extract The Data\n",
        "This first part will extract all the proteins from the articles in the europepmc database which are found by the defined search query"
      ]
    },
    {
      "cell_type": "code",
      "metadata": {
        "id": "x160qg3UVrmV",
        "colab_type": "code",
        "colab": {}
      },
      "source": [
        "maxIter = 2 #Since the query gives around 1300 results\n",
        "query =  '(sirtuin%20OR%20sirtuins%20OR%20SIRT%20OR%20SIRT1%20OR%20SIRT2%20OR%20SIRT3%20OR%20SIRT4%20OR%20SIRT5%20OR%20SIRT6%20OR%20SIRT7)%20AND%20(Alzheimer%20OR%20alzheimer)'\n",
        "cursorMark = '*'\n",
        "pageSize = '1000'\n",
        "\n",
        "results = []\n",
        "\n",
        "hitCount = 0"
      ],
      "execution_count": 0,
      "outputs": []
    },
    {
      "cell_type": "code",
      "metadata": {
        "id": "pgGHw5pPZDVk",
        "colab_type": "code",
        "colab": {}
      },
      "source": [
        "for i in range(0, maxIter):\n",
        "  url = 'https://www.ebi.ac.uk/europepmc/webservices/rest/search?query=' + query + '&pageSize=' + pageSize + '&resultType=lite&format=JSON&cursorMark=' + cursorMark\n",
        "  with urllib.request.urlopen(url) as request:\n",
        "    data = json.loads(request.read().decode())\n",
        "    cursorMark = data['nextCursorMark']\n",
        "\n",
        "    if hitCount == 0:\n",
        "      hitCount = data['hitCount']\n",
        "\n",
        "    results.append(data['resultList'])\n",
        "\n",
        "    time.sleep(5)"
      ],
      "execution_count": 0,
      "outputs": []
    },
    {
      "cell_type": "code",
      "metadata": {
        "id": "-39MWKCxnXgH",
        "colab_type": "code",
        "outputId": "e7256021-fb18-4554-c839-36e5439aba3c",
        "colab": {
          "base_uri": "https://localhost:8080/",
          "height": 34
        }
      },
      "source": [
        "print(len(results[0]['result']) + len(results[1]['result']))"
      ],
      "execution_count": 0,
      "outputs": [
        {
          "output_type": "stream",
          "text": [
            "1353\n"
          ],
          "name": "stdout"
        }
      ]
    },
    {
      "cell_type": "code",
      "metadata": {
        "id": "IRGtCTLkgxw2",
        "colab_type": "code",
        "colab": {}
      },
      "source": [
        "final_results = []"
      ],
      "execution_count": 0,
      "outputs": []
    },
    {
      "cell_type": "code",
      "metadata": {
        "id": "MWAkCzR0Z6-O",
        "colab_type": "code",
        "outputId": "74092454-9df6-4dee-8c36-6bd4e393ba9f",
        "colab": {
          "base_uri": "https://localhost:8080/",
          "height": 50
        }
      },
      "source": [
        "for x in range(0, maxIter):\n",
        "\n",
        "  t = time.localtime()\n",
        "  current_time = time.strftime(\"%H:%M:%S\", t)\n",
        "  print('Round start time:', current_time)\n",
        "\n",
        "  for result in results[x]['result']:\n",
        "\n",
        "    article_id = result['id']\n",
        "    source = result['source']\n",
        "    hasTextMinedTerms = result['hasTextMinedTerms']\n",
        "    pubYear = result['pubYear']\n",
        "\n",
        "    if hasTextMinedTerms == 'Y':\n",
        "      if source and article_id:\n",
        "        url = 'https://www.ebi.ac.uk/europepmc/annotations_api/annotationsByArticleIds?articleIds=' + source + ':' + article_id + '&format=JSON'\n",
        "        \n",
        "        with urllib.request.urlopen(url) as request:\n",
        "          \n",
        "          data = json.loads(request.read().decode())\n",
        "\n",
        "          for x in data[0]['annotations']:\n",
        "            if x['type'] == 'Gene_Proteins':\n",
        "              name = x['tags'][0]['name']\n",
        "              uri = x['tags'][0]['uri']\n",
        "\n",
        "              add = [article_id, pubYear, uri, name]\n",
        "              final_results.append(add)"
      ],
      "execution_count": 0,
      "outputs": [
        {
          "output_type": "stream",
          "text": [
            "Round start time: 10:13:00\n",
            "Round start time: 10:27:14\n"
          ],
          "name": "stdout"
        }
      ]
    },
    {
      "cell_type": "code",
      "metadata": {
        "id": "R7dUoya4mN8U",
        "colab_type": "code",
        "colab": {}
      },
      "source": [
        "timestr = time.strftime(\"%Y%m%d\")\n",
        "filename = \"protein_list_\" + timestr + \".csv\""
      ],
      "execution_count": 0,
      "outputs": []
    },
    {
      "cell_type": "code",
      "metadata": {
        "id": "7qisoA58c-mv",
        "colab_type": "code",
        "colab": {}
      },
      "source": [
        "# Write the proteins to a csv file\n",
        "with open(filename, 'w') as out_file:\n",
        "    csv_out = csv.writer(out_file, delimiter='\\t')\n",
        "    header = [\n",
        "        'id; pubyear; uniprot; name']\n",
        "    csv_out.writerow(header)\n",
        "    for row in final_results:\n",
        "        csv_out.writerow(row)"
      ],
      "execution_count": 0,
      "outputs": []
    },
    {
      "cell_type": "markdown",
      "metadata": {
        "id": "sIb80VUQhm76",
        "colab_type": "text"
      },
      "source": [
        "## Load The Already Retrieved Protein List"
      ]
    },
    {
      "cell_type": "code",
      "metadata": {
        "id": "99khuSjClVNH",
        "colab_type": "code",
        "outputId": "97211cc6-0516-4f0a-a08e-5f570e038cbe",
        "colab": {
          "base_uri": "https://localhost:8080/",
          "height": 402
        }
      },
      "source": [
        "path = '/content/protein_list_20200113.csv'\n",
        "df = pd.read_csv(path, sep='\\t', index_col=False, names=['id', 'pubyear', 'uniprot', 'name'], dtype='unicode')\n",
        "df = df[1:]\n",
        "df"
      ],
      "execution_count": 0,
      "outputs": [
        {
          "output_type": "execute_result",
          "data": {
            "text/html": [
              "<div>\n",
              "<style scoped>\n",
              "    .dataframe tbody tr th:only-of-type {\n",
              "        vertical-align: middle;\n",
              "    }\n",
              "\n",
              "    .dataframe tbody tr th {\n",
              "        vertical-align: top;\n",
              "    }\n",
              "\n",
              "    .dataframe thead th {\n",
              "        text-align: right;\n",
              "    }\n",
              "</style>\n",
              "<table border=\"1\" class=\"dataframe\">\n",
              "  <thead>\n",
              "    <tr style=\"text-align: right;\">\n",
              "      <th></th>\n",
              "      <th>id</th>\n",
              "      <th>pubyear</th>\n",
              "      <th>uniprot</th>\n",
              "      <th>name</th>\n",
              "    </tr>\n",
              "  </thead>\n",
              "  <tbody>\n",
              "    <tr>\n",
              "      <th>1</th>\n",
              "      <td>30922179</td>\n",
              "      <td>2019</td>\n",
              "      <td>http://purl.uniprot.org/uniprot/Q9UHD2</td>\n",
              "      <td>TBK1</td>\n",
              "    </tr>\n",
              "    <tr>\n",
              "      <th>2</th>\n",
              "      <td>30922179</td>\n",
              "      <td>2019</td>\n",
              "      <td>http://purl.uniprot.org/uniprot/O75385</td>\n",
              "      <td>ULK1</td>\n",
              "    </tr>\n",
              "    <tr>\n",
              "      <th>3</th>\n",
              "      <td>30922179</td>\n",
              "      <td>2019</td>\n",
              "      <td>http://purl.uniprot.org/uniprot/P0DKW5</td>\n",
              "      <td>APOE</td>\n",
              "    </tr>\n",
              "    <tr>\n",
              "      <th>4</th>\n",
              "      <td>30922179</td>\n",
              "      <td>2019</td>\n",
              "      <td>http://purl.uniprot.org/uniprot/Q95119</td>\n",
              "      <td>DCT</td>\n",
              "    </tr>\n",
              "    <tr>\n",
              "      <th>5</th>\n",
              "      <td>30922179</td>\n",
              "      <td>2019</td>\n",
              "      <td>http://purl.uniprot.org/uniprot/P42212</td>\n",
              "      <td>GFP</td>\n",
              "    </tr>\n",
              "    <tr>\n",
              "      <th>...</th>\n",
              "      <td>...</td>\n",
              "      <td>...</td>\n",
              "      <td>...</td>\n",
              "      <td>...</td>\n",
              "    </tr>\n",
              "    <tr>\n",
              "      <th>398061</th>\n",
              "      <td>25205048</td>\n",
              "      <td>2014</td>\n",
              "      <td>http://purl.uniprot.org/uniprot/P11052</td>\n",
              "      <td>CSF</td>\n",
              "    </tr>\n",
              "    <tr>\n",
              "      <th>398062</th>\n",
              "      <td>25205048</td>\n",
              "      <td>2014</td>\n",
              "      <td>http://purl.uniprot.org/uniprot/P11052</td>\n",
              "      <td>CSF</td>\n",
              "    </tr>\n",
              "    <tr>\n",
              "      <th>398063</th>\n",
              "      <td>25205048</td>\n",
              "      <td>2014</td>\n",
              "      <td>http://purl.uniprot.org/uniprot/Q90W95</td>\n",
              "      <td>pts</td>\n",
              "    </tr>\n",
              "    <tr>\n",
              "      <th>398064</th>\n",
              "      <td>25205048</td>\n",
              "      <td>2014</td>\n",
              "      <td>http://purl.uniprot.org/uniprot/Q90W95</td>\n",
              "      <td>pts</td>\n",
              "    </tr>\n",
              "    <tr>\n",
              "      <th>398065</th>\n",
              "      <td>25205048</td>\n",
              "      <td>2014</td>\n",
              "      <td>http://purl.uniprot.org/uniprot/Q90W95</td>\n",
              "      <td>pts</td>\n",
              "    </tr>\n",
              "  </tbody>\n",
              "</table>\n",
              "<p>398065 rows × 4 columns</p>\n",
              "</div>"
            ],
            "text/plain": [
              "              id pubyear                                 uniprot  name\n",
              "1       30922179    2019  http://purl.uniprot.org/uniprot/Q9UHD2  TBK1\n",
              "2       30922179    2019  http://purl.uniprot.org/uniprot/O75385  ULK1\n",
              "3       30922179    2019  http://purl.uniprot.org/uniprot/P0DKW5  APOE\n",
              "4       30922179    2019  http://purl.uniprot.org/uniprot/Q95119   DCT\n",
              "5       30922179    2019  http://purl.uniprot.org/uniprot/P42212   GFP\n",
              "...          ...     ...                                     ...   ...\n",
              "398061  25205048    2014  http://purl.uniprot.org/uniprot/P11052   CSF\n",
              "398062  25205048    2014  http://purl.uniprot.org/uniprot/P11052   CSF\n",
              "398063  25205048    2014  http://purl.uniprot.org/uniprot/Q90W95   pts\n",
              "398064  25205048    2014  http://purl.uniprot.org/uniprot/Q90W95   pts\n",
              "398065  25205048    2014  http://purl.uniprot.org/uniprot/Q90W95   pts\n",
              "\n",
              "[398065 rows x 4 columns]"
            ]
          },
          "metadata": {
            "tags": []
          },
          "execution_count": 97
        }
      ]
    },
    {
      "cell_type": "code",
      "metadata": {
        "id": "U1vhStq_oTgc",
        "colab_type": "code",
        "outputId": "559b6089-e1c0-4784-e105-0cb2c1f7e248",
        "colab": {
          "base_uri": "https://localhost:8080/",
          "height": 101
        }
      },
      "source": [
        "final_results = df.values.tolist()\n",
        "final_results[:5]"
      ],
      "execution_count": 0,
      "outputs": [
        {
          "output_type": "execute_result",
          "data": {
            "text/plain": [
              "[['30922179', '2019', 'http://purl.uniprot.org/uniprot/Q9UHD2', 'TBK1'],\n",
              " ['30922179', '2019', 'http://purl.uniprot.org/uniprot/O75385', 'ULK1'],\n",
              " ['30922179', '2019', 'http://purl.uniprot.org/uniprot/P0DKW5', 'APOE'],\n",
              " ['30922179', '2019', 'http://purl.uniprot.org/uniprot/Q95119', 'DCT'],\n",
              " ['30922179', '2019', 'http://purl.uniprot.org/uniprot/P42212', 'GFP']]"
            ]
          },
          "metadata": {
            "tags": []
          },
          "execution_count": 98
        }
      ]
    },
    {
      "cell_type": "markdown",
      "metadata": {
        "id": "7Vgsfrt2A-vI",
        "colab_type": "text"
      },
      "source": [
        "## Create The Edge List\n",
        "This part will create an edge list of the retrieved data."
      ]
    },
    {
      "cell_type": "code",
      "metadata": {
        "id": "00wLd7vsm5kC",
        "colab_type": "code",
        "colab": {}
      },
      "source": [
        "edge = {}\n",
        "articles = {}\n",
        "publication_years = {}\n",
        "edge_articles = {}\n",
        "symbols = {}\n",
        "\n",
        "# Include scoring to use for thresholding\n",
        "weighted_score = {}"
      ],
      "execution_count": 0,
      "outputs": []
    },
    {
      "cell_type": "code",
      "metadata": {
        "id": "ltaiB6luBU2S",
        "colab_type": "code",
        "colab": {}
      },
      "source": [
        "for row in final_results:\n",
        "\n",
        "  # Index 0 = article id\n",
        "  # Index 1 = published year\n",
        "  # Index 2 = Uniprot link to protein\n",
        "  # Index 3 = Protein name\n",
        "\n",
        "  # We now create a nested dictionary, the first dictionary key is the article id.\n",
        "  # The artile id leads to another dictionary containing:\n",
        "  # Publication year\n",
        "  # Dictionary of protein name and protein uniprot ID.\n",
        "\n",
        "  # Get the uniport identifier\n",
        "  try:\n",
        "      uniprot_id = row[2].split('/')[-1]\n",
        "      uniprot_id = uniprot_id.upper()  \n",
        "\n",
        "  except:\n",
        "      print(f'This: {row} had no uniprot id')\n",
        "\n",
        "  if uniprot_id:\n",
        "\n",
        "      year = row[1]\n",
        "      article_id = row[0]\n",
        "      protein_name = row[3].upper()\n",
        "\n",
        "      if uniprot_id not in symbols.keys():\n",
        "          symbols[uniprot_id] = protein_name\n",
        "\n",
        "      # Create dictionary of protein name linked to unpirot id\n",
        "\n",
        "      # Create the dictionary with article ids\n",
        "      if article_id in articles.keys():\n",
        "          if uniprot_id not in articles[article_id]['proteins']:\n",
        "              articles[article_id]['proteins'][uniprot_id] = protein_name\n",
        "      else:\n",
        "          articles[article_id] = {\n",
        "              'year': year,\n",
        "              'proteins': {\n",
        "                  uniprot_id: protein_name\n",
        "              }\n",
        "          }\n",
        "\n",
        "  else:\n",
        "      print(f'This: {row} had no uniprot id')"
      ],
      "execution_count": 0,
      "outputs": []
    },
    {
      "cell_type": "code",
      "metadata": {
        "id": "IQp-fyIJB42Z",
        "colab_type": "code",
        "colab": {}
      },
      "source": [
        "# Set up some variables to retrieve data about the proteins\n",
        "amount_to_many = 0\n",
        "amount_used = 0\n",
        "total_articles = len(articles.keys())\n",
        "# Maximum amount of proteins in an article\n",
        "threshold = 1000"
      ],
      "execution_count": 0,
      "outputs": []
    },
    {
      "cell_type": "code",
      "metadata": {
        "id": "gffcGo2mCR62",
        "colab_type": "code",
        "outputId": "f6f4cd03-0ca0-4999-87aa-0225256c513e",
        "colab": {
          "base_uri": "https://localhost:8080/",
          "height": 50
        }
      },
      "source": [
        "# Loop over the made dictionary add the articles the edge_list\n",
        "for x in articles:\n",
        "\n",
        "    # Calculation for the weighted score of a interaction. N(N-1)/2 is the formula for the total amount of interactions.\n",
        "    number_proteins = len(articles[x]['proteins'])\n",
        "\n",
        "    if number_proteins > 1:\n",
        "      number_interactions = (number_proteins * (number_proteins - 1)) / 2\n",
        "      weight = 1 / number_interactions\n",
        "    else:\n",
        "      weight = 0\n",
        "\n",
        "    if(number_proteins <= threshold):\n",
        "        amount_used += 1\n",
        "\n",
        "        # Setup two temporary lists with containing the proteins uniprot ids\n",
        "        temp1 = list(articles[x]['proteins'].keys())\n",
        "        temp2 = list(articles[x]['proteins'].keys())\n",
        "\n",
        "        # Loop over the protein uniprot ids of one of the templist\n",
        "        for y in temp1:\n",
        "\n",
        "            for z in temp2:\n",
        "\n",
        "                if y != z:\n",
        "                    # To circumvent the concern that both interactions are inserted, check for the reverse first\n",
        "                    # Concern: ('Q9NTG7', 'SIRT3') is for our purposes the same as ('SIRT3', 'Q9NTG7') but python doesnt work that way\n",
        "                    # Also save the publication year and the articles in a separate dictionary and the interaction weight\n",
        "\n",
        "                    interaction = (y, z)\n",
        "                    reverse = (z, y)\n",
        "\n",
        "                    if interaction in edge.keys():\n",
        "                        edge[interaction] += 1\n",
        "\n",
        "                        publication_years[interaction].append(\n",
        "                            int(articles[x]['year']))\n",
        "                        \n",
        "                        edge_articles[interaction] += '-' + x\n",
        "\n",
        "                        weighted_score[interaction] += weight\n",
        "                    elif reverse in edge.keys():\n",
        "                        edge[reverse] += 1\n",
        "\n",
        "                        publication_years[reverse].append(\n",
        "                            int(articles[x]['year']))\n",
        "                        \n",
        "                        edge_articles[reverse] += '-' + x\n",
        "\n",
        "                        weighted_score[reverse] += weight\n",
        "                    else:\n",
        "                        edge[interaction] = 1\n",
        "\n",
        "                        publication_years[interaction] = [int(\n",
        "                            articles[x]['year'])]\n",
        "\n",
        "                        edge_articles[interaction] = x\n",
        "\n",
        "                        weighted_score[interaction] = weight\n",
        "\n",
        "            temp2.remove(y)\n",
        "\n",
        "    else:\n",
        "        amount_to_many += 1\n",
        "\n",
        "print(\n",
        "    f'Treshold of {threshold} results in {amount_used} used and {amount_to_many} not used of {total_articles} articles.')\n",
        "\n",
        "print(f'First thise were amount of interactions:{len(edge)}')"
      ],
      "execution_count": 0,
      "outputs": [
        {
          "output_type": "stream",
          "text": [
            "Treshold of 1000 results in 1305 used and 4 not used of 1309 articles.\n",
            "First thise were amount of interactions:4174306\n"
          ],
          "name": "stdout"
        }
      ]
    },
    {
      "cell_type": "code",
      "metadata": {
        "id": "YHZ7Cke5CfCW",
        "colab_type": "code",
        "outputId": "4ac881dc-16c5-4447-fcc5-413fc9321c3a",
        "colab": {
          "base_uri": "https://localhost:8080/",
          "height": 50
        }
      },
      "source": [
        "# Make a dictionary that keeps only the interactions that occur more than once\n",
        "# https://stackoverflow.com/questions/18807079/selecting-elements-of-a-python-dictionary-greater-than-a-certain-value/18807120\n",
        "final = {k: v for (k, v) in edge.items() if v > 1}\n",
        "\n",
        "test = {k: v for (k, v) in edge.items() if v == 1}\n",
        "print(f'This amount of interactions occured once and were removed {len(test)}')\n",
        "print(f'This is the amount of interactions left {len(final)}')"
      ],
      "execution_count": 0,
      "outputs": [
        {
          "output_type": "stream",
          "text": [
            "This amount of interactions occured once and were removed 3539593\n",
            "This is the amount of interactions left 634713\n"
          ],
          "name": "stdout"
        }
      ]
    },
    {
      "cell_type": "code",
      "metadata": {
        "id": "hGPghu_bCkZ2",
        "colab_type": "code",
        "colab": {}
      },
      "source": [
        "# Calculate the average year for each interaction\n",
        "average_years = {}\n",
        "for k, v in publication_years.items():\n",
        "    average = round(sum(v) / len(v))\n",
        "    average_years[k] = average"
      ],
      "execution_count": 0,
      "outputs": []
    },
    {
      "cell_type": "code",
      "metadata": {
        "id": "tlZry_-sCvJQ",
        "colab_type": "code",
        "colab": {}
      },
      "source": [
        "# Make a str of the current day to add to the output file\n",
        "timestr = time.strftime(\"%Y%m%d\")\n",
        "filename = \"full_gene_edge_list_\" + timestr + \".csv\""
      ],
      "execution_count": 0,
      "outputs": []
    },
    {
      "cell_type": "code",
      "metadata": {
        "id": "NSLH52fPv8_c",
        "colab_type": "code",
        "outputId": "f92b3e24-a42a-46a2-dc82-b1f0505dccff",
        "colab": {
          "base_uri": "https://localhost:8080/",
          "height": 34
        }
      },
      "source": [
        "# Check the max value of the weighted score so you can check it in your cytoscape network\n",
        "max(zip(weighted_score.values(), weighted_score.keys()))"
      ],
      "execution_count": 0,
      "outputs": [
        {
          "output_type": "execute_result",
          "data": {
            "text/plain": [
              "(2.7147841497117184, ('Q96EB6', 'B3LRH6'))"
            ]
          },
          "metadata": {
            "tags": []
          },
          "execution_count": 27
        }
      ]
    },
    {
      "cell_type": "code",
      "metadata": {
        "id": "oCj5jzTsCowd",
        "colab_type": "code",
        "colab": {}
      },
      "source": [
        "# Write the edge list to a csv file\n",
        "with open(filename, 'w') as out_file:\n",
        "    csv_out = csv.writer(out_file)\n",
        "    header = [\n",
        "        'Uniprot ID 1\\tGene Symbol 1\\tUniprot ID 2\\tGene Symbol 2\\tavg year\\tweight\\tartikle_ids']\n",
        "    csv_out.writerow(header)\n",
        "    for k in final.keys():\n",
        "        row = [str(k[0]) + '\\t' + str(symbols[k[0]]) + '\\t' + str(k[1]) + '\\t' + str(symbols[k[1]]) + '\\t' +\n",
        "               str(average_years[k]) + '\\t' + str(weighted_score[k]) + '\\t' + edge_articles[k]]\n",
        "        csv_out.writerow(row)"
      ],
      "execution_count": 0,
      "outputs": []
    },
    {
      "cell_type": "markdown",
      "metadata": {
        "id": "-hvKPdFFhhG2",
        "colab_type": "text"
      },
      "source": [
        "## Load The Already Retrieved Edge List"
      ]
    },
    {
      "cell_type": "code",
      "metadata": {
        "id": "pESvftHqh3mA",
        "colab_type": "code",
        "colab": {}
      },
      "source": [
        "path = '/content/full_gene_edge_list_20200204.csv'\n",
        "df = pd.read_csv(path, sep='\\t')"
      ],
      "execution_count": 0,
      "outputs": []
    },
    {
      "cell_type": "code",
      "metadata": {
        "id": "tjc6HLmfid40",
        "colab_type": "code",
        "outputId": "34e4967f-9abd-421c-a25c-07011493290a",
        "colab": {
          "base_uri": "https://localhost:8080/",
          "height": 218
        }
      },
      "source": [
        "df['avg year']"
      ],
      "execution_count": 0,
      "outputs": [
        {
          "output_type": "execute_result",
          "data": {
            "text/plain": [
              "0         2017.0\n",
              "1         2018.0\n",
              "2         2018.0\n",
              "3         2016.0\n",
              "4         2018.0\n",
              "           ...  \n",
              "616491    2014.0\n",
              "616492    2014.0\n",
              "616493    2014.0\n",
              "616494    2014.0\n",
              "616495    2014.0\n",
              "Name: avg year, Length: 616496, dtype: float64"
            ]
          },
          "metadata": {
            "tags": []
          },
          "execution_count": 56
        }
      ]
    }
  ]
}